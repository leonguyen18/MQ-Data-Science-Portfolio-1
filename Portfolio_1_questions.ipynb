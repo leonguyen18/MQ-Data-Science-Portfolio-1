{
  "cells": [
    {
      "cell_type": "markdown",
      "id": "skHfgkqlqndO",
      "metadata": {
        "id": "skHfgkqlqndO"
      },
      "source": [
        "### Analysis of an E-commerce Dataset\n",
        "\n",
        "We have been provided with a combined e-commerce dataset. In this dataset, each user has the ability to post a rating and review for the products they purchased. Additionally, other users can evaluate the initial rating and review by expressing their trust or distrust.\n",
        "\n",
        "This dataset includes a wealth of information for each user. Details such as their profile, ID, gender, city of birth, product ratings (on a scale of 1-5), reviews, and the prices of the products they purchased are all included. Moreover, for each product rating, we have information about the product name, ID, price, and category, the rating score, the timestamp of the rating and review, and the average helpfulness of the rating given by others (on a scale of 1-5).\n",
        "\n",
        "The dataset is from several data sources, and we have merged all the data into a single CSV file named 'A Combined E-commerce Dataset.csv'. The structure of this dataset is represented in the header shown below.\n",
        "\n",
        "| userId | gender | rating | review| item | category | helpfulness | timestamp | item_id | item_price | user_city|\n",
        "\n",
        "    | ---- | ---- | ---- | ---- | ---- | ---- | ---- | ---- | ---- |  ---- |  ---- |  \n",
        "    \n",
        "#### Description of Fields\n",
        "\n",
        "* __userId__ - the user's id\n",
        "* __gender__ - the user's gender\n",
        "* __rating__ - the user's rating towards the item\n",
        "* __review__ - the user's review towards the item\n",
        "* __item__ - the item's name\n",
        "* __category__ - the category of the item\n",
        "* __helpfulness__ - the average helpfulness of this rating\n",
        "* __timestamp__ - the timestamp when the rating is created\n",
        "* __item_id__ - the item's id\n",
        "* __item_price__ - the item's price\n",
        "* __user_city__ - the city of user's birth\n",
        "\n",
        "Note that, a user may rate multiple items and an item may receive ratings and reviews from multiple users. The \"helpfulness\" is an average value based on all the helpfulness values given by others.\n",
        "\n",
        "There are four questions to explore with the data as shown below.\n",
        "\n",
        "\n",
        "\n",
        "<img src=\"data-relation.png\" align=\"left\" width=\"400\"/>\n",
        "(You can find the data relation diagram on iLearn - Portfolio Part 1 resources - Fig1)\n"
      ]
    },
    {
      "cell_type": "markdown",
      "id": "-tb7B7VTqndQ",
      "metadata": {
        "id": "-tb7B7VTqndQ"
      },
      "source": [
        " #### Q1. Remove missing data\n",
        "\n",
        "Please remove the following records in the csv file:\n",
        "\n",
        " * gender/rating/helpfulness is missing\n",
        " * review is 'none'\n",
        "\n",
        "__Display the DataFrame, counting number of Null values in each column, and print the length of the data__ before and after removing the missing data.  "
      ]
    },
    {
      "cell_type": "code",
      "execution_count": 34,
      "id": "1ecn6H9VqndQ",
      "metadata": {
        "id": "1ecn6H9VqndQ"
      },
      "outputs": [
        {
          "name": "stdout",
          "output_type": "stream",
          "text": [
            "The current DataFrame:  \n",
            "    userId  timestamp                           review                  item  \\\n",
            "0    4051      12807        Great job for what it is!                  eBay   \n",
            "1    4052     122899      Free Access Worth your Time               NetZero   \n",
            "2      33      12700    AOL..I love you!!!!!!!!!!!!    AOL (America Online)   \n",
            "3      33      21000     EBAY!!!  I LOVE YOU!!!! :-)*                  eBay   \n",
            "4      33      22300  Blair Witch...Oh Come On.......   Blair Witch Project   \n",
            "\n",
            "   rating  helpfulness gender                  category  item_id  item_price  \\\n",
            "0     5.0          2.0      F  Online Stores & Services       88      149.00   \n",
            "1     5.0          0.0      F  Online Stores & Services       46       53.00   \n",
            "2     5.0          4.0      F  Online Stores & Services        0      145.84   \n",
            "3     5.0          4.0      F  Online Stores & Services       88      149.00   \n",
            "4     1.0          4.0      F                    Movies       12       44.00   \n",
            "\n",
            "   user_city  \n",
            "0         39  \n",
            "1         39  \n",
            "2         31  \n",
            "3         31  \n",
            "4         31  \n",
            "Number of Null values in each column:  \n",
            " userId          0\n",
            "timestamp       0\n",
            "review         18\n",
            "item            0\n",
            "rating         17\n",
            "helpfulness    22\n",
            "gender         27\n",
            "category        0\n",
            "item_id         0\n",
            "item_price      0\n",
            "user_city       0\n",
            "dtype: int64\n",
            "The length of the DataFrame before removing the missing data:  20000\n",
            "The length of the DataFrame after removing the missing data:  19916\n"
          ]
        }
      ],
      "source": [
        "# your code and solutions\n",
        "\n",
        "# Load the data file and display the DataFrame:\n",
        "import pandas as pd\n",
        "df = pd.read_csv('The E-commerce Dataset.csv')\n",
        "print ('The current DataFrame: ',\"\\n\", df.head(5))\n",
        "\n",
        "# As the missing values in column \"review\" are denoted as 'none', we will replace them with Null values directly into the current DataFrame:\n",
        "df['review'].replace('none', pd.NA, inplace=True)\n",
        "\n",
        "# Count number of Null values in each column:\n",
        "print ('Number of Null values in each column: ', \"\\n\", df.isna().sum())\n",
        "\n",
        "# The length of the DataFrame before removing the missing data aka Null values:\n",
        "print ('The length of the DataFrame before removing the missing data: ', len(df))\n",
        "\n",
        "# Remove records with missing data in [render/rating/helpfulness and review] columns, then save the cleaned DataFrame into a new DataFrame:\n",
        "df_cleaned = df.dropna(subset = ['gender', 'rating', 'helpfulness', 'review'])\n",
        "# The length of the DataFrame after removing the missing data aka Null values:\n",
        "print ('The length of the DataFrame after removing the missing data: ', len(df_cleaned))\n"
      ]
    },
    {
      "cell_type": "markdown",
      "id": "EJG9_LEmqndR",
      "metadata": {
        "id": "EJG9_LEmqndR"
      },
      "source": [
        "#### Q2. Descriptive statistics\n",
        "\n",
        "With the cleaned data in Q1, please provide the data summarization as below:\n",
        "\n",
        "* Q2.1 total number of unique users, unique reviews, unique items, and unique categories\n",
        "* Q2.2 descriptive statistics, e.g., the total number, mean, std, min and max regarding all rating records\n",
        "* Q2.3 descriptive statistics, e.g., mean, std, max, and min of the number of items rated by different genders\n",
        "* Q2.4 descriptive statistics, e.g., mean, std, max, min of the number of ratings that received by each items\n"
      ]
    },
    {
      "cell_type": "code",
      "execution_count": 52,
      "id": "-fiucmwsqndR",
      "metadata": {
        "id": "-fiucmwsqndR"
      },
      "outputs": [
        {
          "name": "stdout",
          "output_type": "stream",
          "text": [
            "Unique users: 8562\n",
            "Unique reviews: 19459\n",
            "Unique items: 89\n",
            "Unique categories: 9\n"
          ]
        },
        {
          "data": {
            "text/plain": [
              "userId          8562\n",
              "timestamp       2283\n",
              "review         19459\n",
              "item              89\n",
              "rating             5\n",
              "helpfulness        5\n",
              "gender             2\n",
              "category           9\n",
              "item_id           89\n",
              "item_price        83\n",
              "user_city         40\n",
              "dtype: int64"
            ]
          },
          "execution_count": 52,
          "metadata": {},
          "output_type": "execute_result"
        }
      ],
      "source": [
        "# your code and solutions\n",
        "# Q2.1: Total number of unique users, unique reviews, unique items, and unique categories in the given data:\n",
        "unique_users = df_cleaned['userId'].nunique()\n",
        "print (f'Unique users: {unique_users}')\n",
        "\n",
        "unique_reviews = df_cleaned['review'].nunique()\n",
        "print(f'Unique reviews: {unique_reviews}')\n",
        "\n",
        "unique_items = df_cleaned['item'].nunique()\n",
        "print(f'Unique items: {unique_items}')\n",
        "\n",
        "unique_categories = df_cleaned['category'].nunique()\n",
        "print(f'Unique categories: {unique_categories}')\n",
        "\n",
        "df_cleaned.nunique()\n"
      ]
    },
    {
      "cell_type": "code",
      "execution_count": 56,
      "id": "02fd8208",
      "metadata": {},
      "outputs": [
        {
          "name": "stdout",
          "output_type": "stream",
          "text": [
            "count    19916.000000\n",
            "mean         3.701798\n",
            "std          1.404451\n",
            "min          1.000000\n",
            "25%          3.000000\n",
            "50%          4.000000\n",
            "75%          5.000000\n",
            "max          5.000000\n",
            "Name: rating, dtype: float64\n"
          ]
        }
      ],
      "source": [
        "# Q2.2: Descriptive statistics: the total number, mean, std, min and max regarding all rating records, etc\n",
        "total_rating = df_cleaned['rating'].describe()\n",
        "print(total_rating)"
      ]
    },
    {
      "cell_type": "code",
      "execution_count": 69,
      "id": "c76b8b4b",
      "metadata": {},
      "outputs": [
        {
          "ename": "AttributeError",
          "evalue": "'numpy.int64' object has no attribute 'describe'",
          "output_type": "error",
          "traceback": [
            "\u001b[0;31m---------------------------------------------------------------------------\u001b[0m",
            "\u001b[0;31mAttributeError\u001b[0m                            Traceback (most recent call last)",
            "Cell \u001b[0;32mIn[69], line 5\u001b[0m\n\u001b[1;32m      1\u001b[0m \u001b[38;5;66;03m# Q2.3: Descriptive statistics: mean, std, max, and min of the number of items rated by different genders\u001b[39;00m\n\u001b[1;32m      2\u001b[0m test \u001b[38;5;241m=\u001b[39m df_cleaned\u001b[38;5;241m.\u001b[39mgroupby([\u001b[38;5;124m'\u001b[39m\u001b[38;5;124mgender\u001b[39m\u001b[38;5;124m'\u001b[39m])[\u001b[38;5;124m'\u001b[39m\u001b[38;5;124mitem\u001b[39m\u001b[38;5;124m'\u001b[39m]\u001b[38;5;241m.\u001b[39mcount()\u001b[38;5;241m.\u001b[39mdescribe()\n\u001b[0;32m----> 5\u001b[0m items_rated_by_M \u001b[38;5;241m=\u001b[39m df_cleaned[df_cleaned[\u001b[38;5;124m'\u001b[39m\u001b[38;5;124mgender\u001b[39m\u001b[38;5;124m'\u001b[39m] \u001b[38;5;241m==\u001b[39m \u001b[38;5;124m'\u001b[39m\u001b[38;5;124mM\u001b[39m\u001b[38;5;124m'\u001b[39m][\u001b[38;5;124m'\u001b[39m\u001b[38;5;124mitem\u001b[39m\u001b[38;5;124m'\u001b[39m]\u001b[38;5;241m.\u001b[39mcount()\u001b[38;5;241m.\u001b[39mdescribe()\n\u001b[1;32m      6\u001b[0m \u001b[38;5;28mprint\u001b[39m (items_rated_by_M)\n",
            "\u001b[0;31mAttributeError\u001b[0m: 'numpy.int64' object has no attribute 'describe'"
          ]
        }
      ],
      "source": [
        "# Q2.3: Descriptive statistics: mean, std, max, and min of the number of items rated by different genders\n",
        "test = df_cleaned.groupby(['gender'])['item'].count().describe()\n",
        "\n",
        "\n",
        "items_rated_by_M = df_cleaned[df_cleaned['gender'] == 'M']['item'].count().describe()\n",
        "print (items_rated_by_M)"
      ]
    },
    {
      "cell_type": "markdown",
      "id": "PISggxe5qndR",
      "metadata": {
        "id": "PISggxe5qndR"
      },
      "source": [
        "#### Q3. Plotting and Analysis\n",
        "\n",
        "Please try to explore the correlation between gender/helpfulness/category and ratings; for instance, do female/male users tend to provide higher ratings than male/female users? Hint: you may use the boxplot function to plot figures for comparison (___Challenge___)\n",
        "    \n",
        "You may need to select the most suitable graphic forms for ease of presentation. Most importantly, for each figure or subfigure, please summarise ___what each plot shows___ (i.e. observations and explanations). Finally, you may need to provide an overall summary of the data."
      ]
    },
    {
      "cell_type": "code",
      "execution_count": 4,
      "id": "Zyuvw_WlqndR",
      "metadata": {
        "id": "Zyuvw_WlqndR"
      },
      "outputs": [],
      "source": [
        "# your code and solutions"
      ]
    },
    {
      "cell_type": "markdown",
      "id": "TxD3SLxRqndR",
      "metadata": {
        "id": "TxD3SLxRqndR"
      },
      "source": [
        "#### Q4. Detect and remove outliers\n",
        "\n",
        "We may define outlier users, reviews and items with three rules (if a record meets one of the rules, it is regarded as an outlier):\n",
        "\n",
        "1. reviews of which the helpfulness is no more than 2\n",
        "2. users who rate less than 7 items\n",
        "3. items that receives less than 11 ratings\n",
        "\n",
        "Please remove the corresponding records in the csv file that involves outlier users, reviews and items. You need to follow the order of rules to perform data cleaning operations. After that, __print the length of the data__."
      ]
    },
    {
      "cell_type": "code",
      "execution_count": 5,
      "id": "JaQJmew4qndR",
      "metadata": {
        "id": "JaQJmew4qndR"
      },
      "outputs": [],
      "source": [
        "# your code and solutions"
      ]
    }
  ],
  "metadata": {
    "colab": {
      "provenance": []
    },
    "kernelspec": {
      "display_name": "Python 3",
      "language": "python",
      "name": "python3"
    },
    "language_info": {
      "codemirror_mode": {
        "name": "ipython",
        "version": 3
      },
      "file_extension": ".py",
      "mimetype": "text/x-python",
      "name": "python",
      "nbconvert_exporter": "python",
      "pygments_lexer": "ipython3",
      "version": "3.8.3"
    }
  },
  "nbformat": 4,
  "nbformat_minor": 5
}

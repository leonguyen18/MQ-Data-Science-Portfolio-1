{
 "cells": [
  {
   "cell_type": "markdown",
   "id": "skHfgkqlqndO",
   "metadata": {
    "id": "skHfgkqlqndO"
   },
   "source": [
    "### Analysis of an E-commerce Dataset\n",
    "\n",
    "We have been provided with a combined e-commerce dataset. In this dataset, each user has the ability to post a rating and review for the products they purchased. Additionally, other users can evaluate the initial rating and review by expressing their trust or distrust.\n",
    "\n",
    "This dataset includes a wealth of information for each user. Details such as their profile, ID, gender, city of birth, product ratings (on a scale of 1-5), reviews, and the prices of the products they purchased are all included. Moreover, for each product rating, we have information about the product name, ID, price, and category, the rating score, the timestamp of the rating and review, and the average helpfulness of the rating given by others (on a scale of 1-5).\n",
    "\n",
    "The dataset is from several data sources, and we have merged all the data into a single CSV file named 'A Combined E-commerce Dataset.csv'. The structure of this dataset is represented in the header shown below.\n",
    "\n",
    "| userId | gender | rating | review| item | category | helpfulness | timestamp | item_id | item_price | user_city|\n",
    "\n",
    "    | ---- | ---- | ---- | ---- | ---- | ---- | ---- | ---- | ---- |  ---- |  ---- |  \n",
    "    \n",
    "#### Description of Fields\n",
    "\n",
    "* __userId__ - the user's id\n",
    "* __gender__ - the user's gender\n",
    "* __rating__ - the user's rating towards the item\n",
    "* __review__ - the user's review towards the item\n",
    "* __item__ - the item's name\n",
    "* __category__ - the category of the item\n",
    "* __helpfulness__ - the average helpfulness of this rating\n",
    "* __timestamp__ - the timestamp when the rating is created\n",
    "* __item_id__ - the item's id\n",
    "* __item_price__ - the item's price\n",
    "* __user_city__ - the city of user's birth\n",
    "\n",
    "Note that, a user may rate multiple items and an item may receive ratings and reviews from multiple users. The \"helpfulness\" is an average value based on all the helpfulness values given by others.\n",
    "\n",
    "There are four questions to explore with the data as shown below.\n",
    "\n",
    "\n",
    "\n",
    "<img src=\"Fig1 The Combined E commerce Dataset.png\" align=\"left\" width=\"400\"/>\n",
    "\n"
   ]
  },
  {
   "cell_type": "markdown",
   "id": "-tb7B7VTqndQ",
   "metadata": {
    "id": "-tb7B7VTqndQ"
   },
   "source": [
    " #### Q1. Remove missing data\n",
    "\n",
    "Please remove the following records in the csv file:\n",
    "\n",
    " * gender/rating/helpfulness is missing\n",
    " * review is 'none'\n",
    "\n",
    "__Display the DataFrame, counting number of Null values in each column, and print the length of the data__ before and after removing the missing data.  "
   ]
  },
  {
   "cell_type": "code",
   "execution_count": 1,
   "id": "1ecn6H9VqndQ",
   "metadata": {
    "id": "1ecn6H9VqndQ"
   },
   "outputs": [
    {
     "name": "stdout",
     "output_type": "stream",
     "text": [
      "The current DataFrame:  \n",
      "    userId  timestamp                           review                  item  \\\n",
      "0    4051      12807        Great job for what it is!                  eBay   \n",
      "1    4052     122899      Free Access Worth your Time               NetZero   \n",
      "2      33      12700    AOL..I love you!!!!!!!!!!!!    AOL (America Online)   \n",
      "3      33      21000     EBAY!!!  I LOVE YOU!!!! :-)*                  eBay   \n",
      "4      33      22300  Blair Witch...Oh Come On.......   Blair Witch Project   \n",
      "\n",
      "   rating  helpfulness gender                  category  item_id  item_price  \\\n",
      "0     5.0          2.0      F  Online Stores & Services       88      149.00   \n",
      "1     5.0          0.0      F  Online Stores & Services       46       53.00   \n",
      "2     5.0          4.0      F  Online Stores & Services        0      145.84   \n",
      "3     5.0          4.0      F  Online Stores & Services       88      149.00   \n",
      "4     1.0          4.0      F                    Movies       12       44.00   \n",
      "\n",
      "   user_city  \n",
      "0         39  \n",
      "1         39  \n",
      "2         31  \n",
      "3         31  \n",
      "4         31  \n",
      "------------------------------------\n",
      "Number of Null values in each column:  \n",
      " userId          0\n",
      "timestamp       0\n",
      "review         18\n",
      "item            0\n",
      "rating         17\n",
      "helpfulness    22\n",
      "gender         27\n",
      "category        0\n",
      "item_id         0\n",
      "item_price      0\n",
      "user_city       0\n",
      "dtype: int64\n",
      "------------------------------------\n",
      "The length of the DataFrame before removing the missing data:  20000\n",
      "The length of the DataFrame after removing the missing data:  19916\n"
     ]
    }
   ],
   "source": [
    "# Load the data file and display the DataFrame:\n",
    "import pandas as pd\n",
    "df = pd.read_csv('The E-commerce Dataset.csv')\n",
    "print ('The current DataFrame: ',\"\\n\", df.head(5))\n",
    "print ('------------------------------------')\n",
    "\n",
    "# Set display width\n",
    "pd.set_option('display.width', 1000)\n",
    "\n",
    "# As the missing values in column \"review\" are denoted as 'none', we will replace them with Null values directly into the current DataFrame:\n",
    "df['review'].replace('none', pd.NA, inplace=True)\n",
    "\n",
    "# Count number of Null values in each column:\n",
    "print ('Number of Null values in each column: ', \"\\n\", df.isna().sum())\n",
    "\n",
    "print ('------------------------------------')\n",
    "# The length of the DataFrame before removing the missing data aka Null values:\n",
    "print ('The length of the DataFrame before removing the missing data: ', len(df))\n",
    "\n",
    "# Remove records with missing data in [render/rating/helpfulness and review] columns, then save the cleaned DataFrame into a new DataFrame:\n",
    "df_cleaned = df.dropna(subset = ['gender', 'rating', 'helpfulness', 'review'])\n",
    "# The length of the DataFrame after removing the missing data aka Null values:\n",
    "print ('The length of the DataFrame after removing the missing data: ', len(df_cleaned))\n"
   ]
  },
  {
   "cell_type": "markdown",
   "id": "EJG9_LEmqndR",
   "metadata": {
    "id": "EJG9_LEmqndR"
   },
   "source": [
    "#### Q2. Descriptive statistics\n",
    "\n",
    "With the cleaned data in Q1, please provide the data summarization as below:\n",
    "\n",
    "* Q2.1 total number of unique users, unique reviews, unique items, and unique categories\n",
    "* Q2.2 descriptive statistics, e.g., the total number, mean, std, min and max regarding all rating records\n",
    "* Q2.3 descriptive statistics, e.g., mean, std, max, and min of the number of items rated by different genders\n",
    "* Q2.4 descriptive statistics, e.g., mean, std, max, min of the number of ratings that received by each items\n"
   ]
  },
  {
   "cell_type": "markdown",
   "id": "ce7477f7",
   "metadata": {},
   "source": [
    "##### Q2.1 Total number of unique users, unique reviews, unique items, and unique categories"
   ]
  },
  {
   "cell_type": "code",
   "execution_count": 2,
   "id": "-fiucmwsqndR",
   "metadata": {
    "id": "-fiucmwsqndR"
   },
   "outputs": [
    {
     "name": "stdout",
     "output_type": "stream",
     "text": [
      "Total number of unique users, unique reviews, unique items, and unique categories in the given data: \n",
      "Unique users: 8562\n",
      "Unique reviews: 19459\n",
      "Unique items: 89\n",
      "Unique categories: 9\n"
     ]
    }
   ],
   "source": [
    "# Task: Total number of unique users, unique reviews, unique items, and unique categories in the given data:\n",
    "print ('Total number of unique users, unique reviews, unique items, and unique categories in the given data: ')\n",
    "## Using the nunique() method to count the number of unique values in each column  \n",
    "                                                                # by specifying the column name as an argument to the nunique() method:\n",
    "unique_users = df_cleaned['userId'].nunique()\n",
    "print (f'Unique users: {unique_users}')\n",
    "\n",
    "unique_reviews = df_cleaned['review'].nunique()\n",
    "print(f'Unique reviews: {unique_reviews}')\n",
    "\n",
    "unique_items = df_cleaned['item'].nunique()\n",
    "print(f'Unique items: {unique_items}')\n",
    "\n",
    "unique_categories = df_cleaned['category'].nunique()\n",
    "print(f'Unique categories: {unique_categories}')\n"
   ]
  },
  {
   "cell_type": "markdown",
   "id": "4a0f6bb8",
   "metadata": {},
   "source": [
    "##### Q2.2 Descriptive statistics, e.g., the total number, mean, std, min and max regarding all rating records"
   ]
  },
  {
   "cell_type": "code",
   "execution_count": 3,
   "id": "07786491",
   "metadata": {},
   "outputs": [
    {
     "name": "stdout",
     "output_type": "stream",
     "text": [
      "Descriptive statistics of rating records, including the total number, mean, std, min and max: \n",
      "Total number of rating records:  19916\n",
      "Mean of rating records:  3.7017975497087767\n",
      "Standard deviation of rating records:  1.4044507218710944\n",
      "Minimum rating:  1.0\n",
      "Maximum rating:  5.0\n"
     ]
    }
   ],
   "source": [
    "# Task: Descriptive statistics: the total number, mean, std, min and max regarding all rating records, etc\n",
    "print ('Descriptive statistics of rating records, including the total number, mean, std, min and max: ')\n",
    "print ('Total number of rating records: ', df_cleaned['rating'].count())\n",
    "print ('Mean of rating records: ', df_cleaned['rating'].mean())\n",
    "print ('Standard deviation of rating records: ', df_cleaned['rating'].std())\n",
    "print ('Minimum rating: ', df_cleaned['rating'].min())\n",
    "print ('Maximum rating: ', df_cleaned['rating'].max())"
   ]
  },
  {
   "cell_type": "markdown",
   "id": "8206f9ed",
   "metadata": {},
   "source": [
    "##### Q2.3 Descriptive statistics, e.g., mean, std, max, and min of the number of items rated by different genders"
   ]
  },
  {
   "cell_type": "code",
   "execution_count": 4,
   "id": "c76b8b4b",
   "metadata": {},
   "outputs": [
    {
     "name": "stdout",
     "output_type": "stream",
     "text": [
      "Number of items rated by different genders: \n",
      "Gender  Count\n",
      "     F   9793\n",
      "     M  10123\n",
      "------------------------------------\n",
      "Descriptive statistics of the number of items rated by different genders: \n",
      "Mean:  9958.0\n",
      "Standard deviation:  233.345\n",
      "Maximum:  10123\n",
      "Minimum:  9793\n"
     ]
    }
   ],
   "source": [
    "# Task: Descriptive statistics: mean, std, max, and min of the number of items rated by different genders\n",
    "\n",
    "## Group by gender and count the number of items rated by each gender\n",
    "print ('Number of items rated by different genders: ')\n",
    "gender_item_counts = df_cleaned.groupby('gender')['item'].count()                   # Group by gender and count the number of items\n",
    "df_gender_item_counts = gender_item_counts.reset_index ()                           # Convert the resulting Series to a DataFrame using the reset_index() method\n",
    "df_gender_item_counts.columns = ['Gender', 'Count']                                 # Rename the columns of the resulting DataFrame\n",
    "print (df_gender_item_counts.to_string(index=False))\n",
    "\n",
    "print ('------------------------------------')\n",
    "\n",
    "## Descriptive statistics of the number of items rated by different genders\n",
    "print ('Descriptive statistics of the number of items rated by different genders: ')\n",
    "mean_items = gender_item_counts.mean()\n",
    "std_items = gender_item_counts.std()\n",
    "max_items = gender_item_counts.max()\n",
    "min_items = gender_item_counts.min()\n",
    "\n",
    "print ('Mean: ', round(mean_items, 3))\n",
    "print ('Standard deviation: ', round(std_items, 3))\n",
    "print ('Maximum: ', round(max_items, 3))\n",
    "print ('Minimum: ', round(min_items, 3))\n"
   ]
  },
  {
   "cell_type": "markdown",
   "id": "631882a3",
   "metadata": {},
   "source": [
    "##### Q2.4 Descriptive statistics, e.g., mean, std, max, min of the number of ratings that received by each items"
   ]
  },
  {
   "cell_type": "code",
   "execution_count": 5,
   "id": "ea2dceca",
   "metadata": {},
   "outputs": [
    {
     "name": "stdout",
     "output_type": "stream",
     "text": [
      "Number of ratings received by each item: \n",
      "                                                 Item  Count\n",
      "                                 AOL (America Online)    939\n",
      "                                        All Advantage    657\n",
      "                                Alta Vista (by 1stUp)    157\n",
      "                                           Amazon.com    240\n",
      "                                    American Airlines    185\n",
      "                                      American Beauty    280\n",
      "                                         American Pie    315\n",
      "                                     Any Given Sunday    166\n",
      "                                           Applebee's    141\n",
      "                Austin Powers: The Spy Who Shagged Me    239\n",
      "                                      Bank of America    203\n",
      "                                 Being John Malkovich    162\n",
      "                                  Blair Witch Project    339\n",
      "                            Blue Mountain Arts eCards    284\n",
      "                                         Blue's Clues    186\n",
      "                                        BlueLight.com    156\n",
      "                                          Burger King    194\n",
      "                                            Cast Away    170\n",
      "                       Crouching Tiger, Hidden Dragon    148\n",
      "                                        Deep Blue Sea    150\n",
      "                                      Delta Air Lines    199\n",
      "             Diablo 2 - Bestseller Series for Windows    167\n",
      "                                                Dogma    170\n",
      "                                            Earthlink    169\n",
      "                                      Erin Brockovich    187\n",
      "                                                  FOX    139\n",
      "                                           Fight Club    195\n",
      "                 Final Fantasy VIII for PlayStation 1    292\n",
      "                                         FreeRide.com    242\n",
      "                                         Galaxy Quest    192\n",
      "                                            Gladiator    294\n",
      "                       Golden Eye 007 for Nintendo 64    174\n",
      "                                               Google    147\n",
      "                                           Green Mile    322\n",
      "                       How the Grinch Stole Christmas    143\n",
      "                           Huggies Ultra Trim Diapers    166\n",
      "J. K. Rowling - Harry Potter and the Sorcerer's Stone    206\n",
      "                                            Las Vegas    189\n",
      "                        Luvs Ultra Leakguards Stretch    156\n",
      "                                                  MTV    341\n",
      "                                               Matrix    346\n",
      "                                           McDonald's    415\n",
      "                               Mission: Impossible II    253\n",
      "                                         MyPoints.com    279\n",
      "                                                  NBC    155\n",
      "                                              NetFlix    161\n",
      "                                              NetZero    350\n",
      "                                        New York City    176\n",
      "                                   Northwest Airlines    141\n",
      "                                         Olive Garden    213\n",
      "                                   Outback Steakhouse    210\n",
      "                                              Patriot    173\n",
      "                                               PayPal    251\n",
      "                                         Pearl Harbor    148\n",
      "                                        Perfect Storm    187\n",
      "                          Playtex Diaper Genie System    148\n",
      "                        Priceline Flight Reservations    146\n",
      "                                        Quicken Loans    270\n",
      "                      Road Runner (includes MediaOne)    195\n",
      "                    Roller Coaster Tycoon For Windows    152\n",
      "                                          Scary Movie    211\n",
      "                                             Scream 3    166\n",
      "                          Sega Dreamcast Grey Console    155\n",
      "                                                Shrek    161\n",
      "                                        Simpsons, The    207\n",
      "                                          Sixth Sense    339\n",
      "                                        Sleepy Hollow    192\n",
      "                  Sony PlayStation 2 Slimline Console    176\n",
      "                   South Park: Bigger, Longer & Uncut    160\n",
      "                                   Southwest Airlines    303\n",
      "                                               Spedia    180\n",
      "              Star Wars Episode I: The Phantom Menace    166\n",
      "                                    StartSampling.Com    220\n",
      "                                               Subway    165\n",
      "                                            Taco Bell    154\n",
      "                                  Talented Mr. Ripley    197\n",
      "                                          Teletubbies    209\n",
      "  The Legend Of Zelda Ocarina Of Time for Nintendo 64    143\n",
      "                                   The Original Furby    175\n",
      "            The Sims 2: Open for Business for Windows    271\n",
      "                                          Toy Story 2    302\n",
      "                                         Treeloot.com    171\n",
      "                                          Unbreakable    170\n",
      "                                      United Airlines    169\n",
      "                                              Wendy's    210\n",
      "                                    What Lies Beneath    160\n",
      "                                                X-Men    245\n",
      "                                                X.com    173\n",
      "                                                 eBay    596\n",
      "------------------------------------\n",
      "Descriptive statistics of the number of ratings that received by each items, including mean, std, max and min: \n",
      "Mean:  223.775\n",
      "Standard deviation:  116.419\n",
      "Maximum:  939\n",
      "Minimum:  139\n"
     ]
    }
   ],
   "source": [
    "# Task: Descriptive statistics, e.g., mean, std, max, min of the number of ratings that received by each items\n",
    "\n",
    "## Group by item and count the number of ratings received by each item\n",
    "print ('Number of ratings received by each item: ')\n",
    "item_rating_counts = df_cleaned.groupby('item')['rating'].count()\n",
    "df_item_rating_counts = item_rating_counts.reset_index()\n",
    "df_item_rating_counts.columns = ['Item', 'Count']\n",
    "print (df_item_rating_counts.to_string(index=False))\n",
    "\n",
    "print ('------------------------------------')\n",
    "\n",
    "## Descriptive statistics of the number of ratings that received by each items\n",
    "print ('Descriptive statistics of the number of ratings that received by each items, including mean, std, max and min: ')\n",
    "\n",
    "mean_item_ratings = item_rating_counts.mean()\n",
    "std_item_ratings = item_rating_counts.std()\n",
    "max_item_ratings = item_rating_counts.max()\n",
    "min_item_ratings = item_rating_counts.min()\n",
    "\n",
    "print ('Mean: ', round(mean_item_ratings, 3))\n",
    "print ('Standard deviation: ', round(std_item_ratings, 3))\n",
    "print ('Maximum: ', round(max_item_ratings, 3))\n",
    "print ('Minimum: ', round(min_item_ratings, 3))"
   ]
  },
  {
   "cell_type": "markdown",
   "id": "PISggxe5qndR",
   "metadata": {
    "id": "PISggxe5qndR"
   },
   "source": [
    "#### Q3. Plotting and Analysis\n",
    "\n",
    "Please try to explore the correlation between gender/helpfulness/category and ratings; for instance, do female/male users tend to provide higher ratings than male/female users? Hint: you may use the boxplot function to plot figures for comparison (___Challenge___)\n",
    "    \n",
    "You may need to select the most suitable graphic forms for ease of presentation. Most importantly, for each figure or subfigure, please summarise ___what each plot shows___ (i.e. observations and explanations). Finally, you may need to provide an overall summary of the data."
   ]
  },
  {
   "cell_type": "markdown",
   "id": "ea9be1cd",
   "metadata": {},
   "source": [
    "##### Q3.1 Box Plot of Ratings by Gender"
   ]
  },
  {
   "cell_type": "code",
   "execution_count": 6,
   "id": "1fa03746",
   "metadata": {},
   "outputs": [
    {
     "name": "stdout",
     "output_type": "stream",
     "text": [
      "Count of ratings by gender:\n",
      "gender     F     M\n",
      "rating            \n",
      "1.0     1146  1263\n",
      "2.0     1077  1135\n",
      "3.0     1200  1206\n",
      "4.0     2345  2426\n",
      "5.0     4025  4093\n",
      "\n",
      "Statistics of Ratings by Gender:\n",
      "gender            F     M\n",
      "Mean   rating  3.72  3.69\n",
      "Median rating  4.00  4.00\n",
      "Min    rating  1.00  1.00\n",
      "Max    rating  5.00  5.00\n"
     ]
    }
   ],
   "source": [
    "# Convert 'rating' column to numeric\n",
    "df_cleaned_sub = df_cleaned.copy()\n",
    "df_cleaned_sub['rating'] = pd.to_numeric(df_cleaned_sub['rating'], errors='coerce')\n",
    "\n",
    "# Create a pivot table with count of ratings\n",
    "pivot_table_count = df_cleaned_sub.pivot_table(index='rating', columns='gender', aggfunc='size', fill_value=0)\n",
    "\n",
    "# Create pivot tables with average, median, min, and max ratings\n",
    "pivot_table_mean = df_cleaned_sub.pivot_table(columns='gender', values='rating', aggfunc='mean').round(2)\n",
    "pivot_table_median = df_cleaned_sub.pivot_table(columns='gender', values='rating', aggfunc='median').round(2)\n",
    "pivot_table_min = df_cleaned_sub.pivot_table(columns='gender', values='rating', aggfunc='min').round(2)\n",
    "pivot_table_max = df_cleaned_sub.pivot_table(columns='gender', values='rating', aggfunc='max').round(2)\n",
    "\n",
    "# Combine the statistics into one DataFrame\n",
    "stats_gender_df = pd.concat([pivot_table_mean, pivot_table_median, pivot_table_min, pivot_table_max], keys=['Mean', 'Median', 'Min', 'Max'])\n",
    "\n",
    "print(\"Count of ratings by gender:\")\n",
    "print(pivot_table_count)\n",
    "\n",
    "print(\"\\nStatistics of Ratings by Gender:\")\n",
    "print(stats_gender_df)"
   ]
  },
  {
   "cell_type": "code",
   "execution_count": 7,
   "id": "8cefb138",
   "metadata": {},
   "outputs": [
    {
     "data": {
      "image/png": "[encoded data removed]",
      "text/plain": [
       "<Figure size 1200x600 with 1 Axes>"
      ]
     },
     "metadata": {},
     "output_type": "display_data"
    }
   ],
   "source": [
    "import pandas as pd\n",
    "import seaborn as sns\n",
    "import matplotlib.pyplot as plt\n",
    "\n",
    "# Boxplot for gender vs ratings\n",
    "plt.figure(figsize=(12, 6))\n",
    "sns.boxplot(x='gender', y='rating', data=df_cleaned)\n",
    "plt.title('Box Plot of Ratings by Gender', fontsize = 14)\n",
    "plt.ylim(0, 6) # Adjust the y-axis to range from 0 to 6\n",
    "plt.show()\n",
    "\n"
   ]
  },
  {
   "cell_type": "markdown",
   "id": "8cb19d47",
   "metadata": {},
   "source": [
    "<div style=\"font-family: Times New Roman;\">\n",
    "\n",
    "<h4 style=\"text-align:center\">Box Plot of Ratings by Gender</h4>\n",
    "\n",
    "<p>The box plot above represents the distribution of ratings given by each gender.</p>\n",
    "\n",
    "The box plot shows that the male group tends to have a slightly higher number of ratings compared to the female group. However, the <b><span style=\"color:orange\"> median rating (4.0) </span></b> and the <b><span style=\"color:red\"> maximum rating (5.0) </span></b> share the same values, suggesting that the central tendency and the highest ratings are similar for both groups. Also, in the additional pivot table data above, we can see the mean rating score by females (3.72) is a bit higher than the mean rating by males (3.69).\n",
    "\n",
    "</div>"
   ]
  },
  {
   "cell_type": "markdown",
   "id": "c4415a00",
   "metadata": {},
   "source": [
    "##### Q3.2 Box Plot of Ratings by Helpfulness"
   ]
  },
  {
   "cell_type": "code",
   "execution_count": 8,
   "id": "4754f7b5",
   "metadata": {},
   "outputs": [
    {
     "name": "stdout",
     "output_type": "stream",
     "text": [
      "\n",
      "Statistics of Ratings by Helpfulness:\n",
      "\n",
      "                    rating\n",
      "       helpfulness        \n",
      "Mean   0.0            3.70\n",
      "       1.0            3.77\n",
      "       2.0            3.55\n",
      "       3.0            3.75\n",
      "       4.0            3.69\n",
      "Median 0.0            4.00\n",
      "       1.0            4.00\n",
      "       2.0            4.00\n",
      "       3.0            4.00\n",
      "       4.0            4.00\n",
      "------------------------------------------------------------------------------------------------------------\n",
      "\n",
      "Count of each Helpfulness for each Rating:\n",
      "\n",
      "helpfulness   0.0  1.0  2.0   3.0    4.0  Total\n",
      "rating                                         \n",
      "1.0           711   31   37   429   1201   2409\n",
      "2.0           678    6   19   350   1159   2212\n",
      "3.0           709   18   15   353   1311   2406\n",
      "4.0          1411   38   37   794   2491   4771\n",
      "5.0          2401   83   79  1495   4060   8118\n",
      "Total        5910  176  187  3421  10222  19916\n"
     ]
    }
   ],
   "source": [
    "# Convert 'rating' and 'helpfulness' columns to numeric\n",
    "df_cleaned_sub = df_cleaned.copy()\n",
    "df_cleaned_sub['rating'] = pd.to_numeric(df_cleaned_sub['rating'], errors='coerce')\n",
    "df_cleaned_sub['helpfulness'] = pd.to_numeric(df_cleaned_sub['helpfulness'], errors='coerce')\n",
    "\n",
    "# Create pivot tables with average, median values of rating for each helpfulness \n",
    "pivot_table_helpfulness_mean = df_cleaned_sub.pivot_table(index='helpfulness', values='rating', aggfunc='mean').round(2)\n",
    "pivot_table_helpfulness_median = df_cleaned_sub.pivot_table(index='helpfulness', values='rating', aggfunc='median').round(2)\n",
    "\n",
    "# Combine the statistics into one DataFrame\n",
    "stats_helpfulness_df = pd.concat([pivot_table_helpfulness_mean, pivot_table_helpfulness_median], keys=['Mean', 'Median'])\n",
    "\n",
    "print(\"\\nStatistics of Ratings by Helpfulness:\\n\")\n",
    "print(stats_helpfulness_df)\n",
    "\n",
    "print ('------------------------------------------------------------------------------------------------------------')\n",
    "\n",
    "# Create pivot table with 'rating' as the index, 'helpfulness' as the columns, and count as the values\n",
    "rating_helpfulness_count = df_cleaned_sub.pivot_table(index='rating', columns='helpfulness', aggfunc='size', fill_value=0)\n",
    "\n",
    "# Add total by columns\n",
    "rating_helpfulness_count.loc['Total', :] = rating_helpfulness_count.sum(axis=0)\n",
    "\n",
    "# Add total by rows\n",
    "rating_helpfulness_count.loc[:, 'Total'] = rating_helpfulness_count.sum(axis=1)\n",
    "\n",
    "# Convert the DataFrame to integers\n",
    "rating_helpfulness_count = rating_helpfulness_count.astype(int)\n",
    "\n",
    "print(\"\\nCount of each Helpfulness for each Rating:\\n\")\n",
    "print(rating_helpfulness_count)"
   ]
  },
  {
   "cell_type": "code",
   "execution_count": 9,
   "id": "0ca8c77f",
   "metadata": {},
   "outputs": [
    {
     "data": {
      "image/png": "[encoded data removed]",
      "text/plain": [
       "<Figure size 1200x600 with 1 Axes>"
      ]
     },
     "metadata": {},
     "output_type": "display_data"
    }
   ],
   "source": [
    "# Boxplot for helpfulness vs ratings\n",
    "plt.figure(figsize=(12, 6))\n",
    "sns.boxplot(x='helpfulness', y='rating', data=df_cleaned, orient = 'v')\n",
    "plt.title('Box Plot of Ratings by Helpfulness', fontsize = 14)\n",
    "plt.ylim(0, 6) # Adjust the y-axis to range from 0 to 6\n",
    "plt.show()\n"
   ]
  },
  {
   "cell_type": "markdown",
   "id": "b502c31a",
   "metadata": {},
   "source": [
    "<div style=\"font-family: Times New Roman;\">\n",
    "\n",
    "<h4 style=\"text-align:center\">Box Plot of Ratings by Gender</h4>\n",
    "\n",
    "<p>The box plot and data show a generally positive correlation between the average helpfulness of ratings and the actual ratings given by users. Higher average helpfulness levels tend to correspond with higher ratings received. However, this positive trend is only relatively evident in the increase in \"mean'' ratings as helpfulness increases from 2.0 to 4.0. \n",
    "\n",
    "However, the data points for an average helpfulness of 0.0 or 1.0 are likely to be outliers, with an unexpectedly high \"median\" rating of 4.0. Rather than being viewed as obviously \"unhelpful,\" this probably represents ratings that have not yet gotten any helpfulness ratings from other users.\n",
    "\n",
    "The relationship is not perfectly linear across all data points. There are fluctuations in the data, for example, a significant number of high ratings at low average helpfulness or low ratings at high helpfulness. This suggests that while a positive correlation generally holds between the average perceived helpfulness and ratings, it is not absolute in every case. In other words, there are other factors that are likely to impact individual users' rating behaviors beyond just the average helpfulness assessment.\n",
    "</p>\n",
    "\n",
    "\n",
    "\n",
    "</div>"
   ]
  },
  {
   "cell_type": "markdown",
   "id": "8fdc0bad",
   "metadata": {},
   "source": [
    "##### Q3.3 Box Plot of Ratings by Category"
   ]
  },
  {
   "cell_type": "code",
   "execution_count": 10,
   "id": "85bb44ee",
   "metadata": {},
   "outputs": [
    {
     "name": "stdout",
     "output_type": "stream",
     "text": [
      "\n",
      "Count of each Rating for each Category with totals:\n",
      "\n",
      "rating                    1.0  2.0  3.0   4.0   5.0  Total\n",
      "category                                                  \n",
      "Books                       1    3    6    33   163    206\n",
      "Games                      19   76  101   379   955   1530\n",
      "Hotels & Travel           197  157  170   361   477   1362\n",
      "Kids & Family             179  159  115   211   583   1247\n",
      "Media                     182  150   84    99   120    635\n",
      "Movies                    462  716  931  1879  3060   7048\n",
      "Online Stores & Services  948  651  646  1191  1853   5289\n",
      "Personal Finance          219   75   64   137   402    897\n",
      "Restaurants & Gourmet     202  225  289   481   505   1702\n",
      "------------------------------------------------------------------------------------------------------------\n",
      "\n",
      "Summary of Ratings by Category:\n",
      "                           count      mean       std  min  25%  50%  75%  max\n",
      "category                                                                     \n",
      "Books                      206.0  4.718447  0.638863  1.0  5.0  5.0  5.0  5.0\n",
      "Games                     1530.0  4.421569  0.907453  1.0  4.0  5.0  5.0  5.0\n",
      "Hotels & Travel           1362.0  3.560940  1.430599  1.0  2.0  4.0  5.0  5.0\n",
      "Kids & Family             1247.0  3.689655  1.505713  1.0  2.0  4.0  5.0  5.0\n",
      "Media                      635.0  2.724409  1.490650  1.0  1.0  2.0  4.0  5.0\n",
      "Movies                    7048.0  3.902242  1.246288  1.0  3.0  4.0  5.0  5.0\n",
      "Online Stores & Services  5289.0  3.444318  1.506532  1.0  2.0  4.0  5.0  5.0\n",
      "Personal Finance           897.0  3.477146  1.667635  1.0  2.0  4.0  5.0  5.0\n",
      "Restaurants & Gourmet     1702.0  3.506463  1.349424  1.0  2.0  4.0  5.0  5.0\n"
     ]
    }
   ],
   "source": [
    "# Create pivot table with 'category' as the index, 'rating' as the columns, and count as the values\n",
    "rating_category_count = df_cleaned.pivot_table(index='category', columns='rating', aggfunc='size', fill_value=0)\n",
    "\n",
    "# Add total by rows\n",
    "rating_category_count['Total'] = rating_category_count.sum(axis=1)\n",
    "\n",
    "# Convert the DataFrame to integers\n",
    "rating_category_count = rating_category_count.astype(int)\n",
    "\n",
    "print(\"\\nCount of each Rating for each Category with totals:\\n\")\n",
    "print(rating_category_count)\n",
    "\n",
    "print ('------------------------------------------------------------------------------------------------------------')\n",
    "\n",
    "# Summarize information of Ratings by Category\n",
    "summary = df_cleaned.groupby('category')['rating'].describe()\n",
    "print(\"\\nSummary of Ratings by Category:\")\n",
    "print(summary)"
   ]
  },
  {
   "cell_type": "code",
   "execution_count": 11,
   "id": "98ce7f29",
   "metadata": {},
   "outputs": [
    {
     "data": {
      "image/png": "[encoded data removed]",
      "text/plain": [
       "<Figure size 1200x800 with 1 Axes>"
      ]
     },
     "metadata": {},
     "output_type": "display_data"
    }
   ],
   "source": [
    "# Boxplot for category vs ratings\n",
    "plt.figure(figsize=(12, 8))\n",
    "sns.boxplot(x='category', y='rating', data=df_cleaned, orient = 'v')\n",
    "plt.title('Box Plot of Ratings by Category')\n",
    "plt.ylim(0, 6) # Adjust the y-axis to range from 0 to 5\n",
    "plt.xticks(rotation=45)\n",
    "plt.show()\n"
   ]
  },
  {
   "cell_type": "markdown",
   "id": "2f05ee44",
   "metadata": {},
   "source": [
    "<div style=\"font-family: Times New Roman;\">\n",
    "\n",
    "<h4 style=\"text-align:center\">Box Plot of Ratings by Category</h4>\n",
    "\n",
    "<p>The box plot of Ratings by Category reveals that the majority of categories have a median rating of 4, with minimal variation observed within categories such as \"Online Stores & Services\", \"Movies\", \"Restaurants & Gourmet\", \"Personal Finance\", \"Kids & Family\", and \"Hotels & Travel\". For these categories, a minimum of 50% of the ratings received were rated 4 or above. The typical range for most items is between 2 and 5, with the exception of \"Movies\" which have a minimum value of 3. \n",
    "\n",
    "Regarding the categories of \"Media,\" \"Games,\" and \"Books,\" there are notable disparities in the distribution of value among these categories. More precisely, the category \"Media\" has a maximum value of 4 and a minimum value of 1, but both \"Games\" and \"Books\" have a maximum value of around 5. The median values in these three categories exhibit discrepancies when compared to the categories examined earlier. When it comes to ratings of 4 or higher, \"Games\" receives more than 80% of these ratings, while \"Books\" gets more than 90% of them. This suggests that there is a notable difference in the distribution of ratings between the two categories.\n",
    "\n",
    "Noticeably, the outliers that fall beyond the range of the whiskers in the box plots for the \"Games\" and \"Books\" categories, depicted as black dots, indicate ratings that are considerably lower than the majority of the data in those categories. The presence of these outliers suggests that although most ratings tend to be concentrated around the median and interquartile range, there are some instances of extreme ratings (specifically, very low ratings in these cases) for certain games or books.\n",
    "\n",
    "In general, apart from \"Media\", \"Games\", and \"Books\", there is minimal fluctuation in the median ratings among other product categories, with most of them averaging around 4. Nevertheless, the spread and occurrence of extreme values differ between categories, indicating possible disparities in user experiences and rating patterns within each category.\n",
    "</p>\n",
    "\n",
    "\n",
    "\n",
    "</div>"
   ]
  },
  {
   "cell_type": "markdown",
   "id": "740ed99e",
   "metadata": {},
   "source": [
    "##### Q3.4 Data summary"
   ]
  },
  {
   "cell_type": "code",
   "execution_count": 12,
   "id": "9c820466",
   "metadata": {},
   "outputs": [
    {
     "name": "stdout",
     "output_type": "stream",
     "text": [
      "\n",
      "Summary of numerical data:\n",
      "\n",
      "        rating  helpfulness  item_price\n",
      "count  19916.0     19916.00    19916.00\n",
      "mean       3.7         2.60       82.19\n",
      "std        1.4         1.75       42.24\n",
      "min        1.0         0.00       12.00\n",
      "25%        3.0         0.00       48.25\n",
      "50%        4.0         4.00       72.00\n",
      "75%        5.0         4.00      126.50\n",
      "max        5.0         4.00      149.00\n",
      "------------------------------------------------------------------------------------------------------------\n",
      "\n",
      "Summary of categorical data:\n",
      "\n",
      "        userId gender       review                  item category  item_id  user_city\n",
      "count    19916  19916        19916                 19916    19916    19916      19916\n",
      "unique    8562      2        19459                    89        9       89         40\n",
      "top       6408      M  Great Movie  AOL (America Online)   Movies        0          7\n",
      "freq        45  10123           14                   939     7048      939        619\n"
     ]
    }
   ],
   "source": [
    "df_summary = df_cleaned.copy()\n",
    "\n",
    "# Convert 'userId', 'item_id', 'user_city' to object data type\n",
    "df_summary['userId'] = df_summary['userId'].astype('object')\n",
    "df_summary['item_id'] = df_summary['item_id'].astype('object')\n",
    "df_summary['user_city'] = df_summary['user_city'].astype('object')\n",
    "\n",
    "# Summary of numerical data\n",
    "numerical_columns = ['rating', 'helpfulness', 'item_price']\n",
    "numerical_summary = df_summary[numerical_columns].describe().round(2)\n",
    "print(\"\\nSummary of numerical data:\\n\")\n",
    "print(numerical_summary)\n",
    "\n",
    "print ('------------------------------------------------------------------------------------------------------------')\n",
    "\n",
    "# Summary of categorical data\n",
    "categorical_columns = ['userId', 'gender', 'review', 'item', 'category', 'item_id', 'user_city']\n",
    "categorical_summary = df_summary[categorical_columns].describe(include=['O'])\n",
    "print(\"\\nSummary of categorical data:\\n\")\n",
    "print(categorical_summary)"
   ]
  },
  {
   "cell_type": "markdown",
   "id": "ea428021",
   "metadata": {},
   "source": [
    "<div style=\"font-family: Times New Roman;\">\n",
    "\n",
    "<h4 style=\"text-align:center\">Brief Summary of Data</h4>\n",
    "\n",
    "<p>The data contains information on 19916 items, including key fields like rating, helpfulness, gender, and item categories. \n",
    "\n",
    "- The ratings range from 1 to 5, with a mean of 3.7 out of 5 stars. \n",
    "- The helpfulness scores, which likely indicate how helpful other users found a particular rating, range from 0 to 4 with a mean of 2.6. \n",
    "- The items span a wide price range, from $12 to $149, with an average price of $82.19. \n",
    "- Moreover, there are 8562 unique users, with 'Male' being the most common. \n",
    "- There are 19459 unique reviews, with the most frequently occurring text in the \"Review\" field being 'Great Movie'.\n",
    "- The items belong to 9 distinct categories, with 'Movies' being the most popular.\n",
    "- Based on the information available, it appears that 'AOL (America Online)' is likely one of the most common items (939 times), potentially in the 'Online Stores & Services' category.\n",
    "\n",
    "</p>\n",
    "</div>"
   ]
  },
  {
   "cell_type": "markdown",
   "id": "TxD3SLxRqndR",
   "metadata": {
    "id": "TxD3SLxRqndR"
   },
   "source": [
    "#### Q4. Detect and remove outliers\n",
    "\n",
    "We may define outlier users, reviews and items with three rules (if a record meets one of the rules, it is regarded as an outlier):\n",
    "\n",
    "1. reviews of which the helpfulness is no more than 2\n",
    "2. users who rate less than 7 items\n",
    "3. items that receives less than 11 ratings\n",
    "\n",
    "Please remove the corresponding records in the csv file that involves outlier users, reviews and items. You need to follow the order of rules to perform data cleaning operations. After that, __print the length of the data__."
   ]
  },
  {
   "cell_type": "markdown",
   "id": "a2ee714c",
   "metadata": {},
   "source": [
    "##### Q4.1 Reviews of which the helpfulness is no more than 2"
   ]
  },
  {
   "cell_type": "code",
   "execution_count": 24,
   "id": "JaQJmew4qndR",
   "metadata": {
    "id": "JaQJmew4qndR"
   },
   "outputs": [
    {
     "name": "stdout",
     "output_type": "stream",
     "text": [
      "             userId      timestamp        rating   helpfulness       item_id    item_price     user_city\n",
      "count  13643.000000   13643.000000  13643.000000  13643.000000  13643.000000  13643.000000  13643.000000\n",
      "mean    5414.111193   57447.037089      3.705563      3.749249     41.743678     82.661817     19.503555\n",
      "std     3366.457725   38065.329556      1.400103      0.433461     27.281631     42.404370     11.571317\n",
      "min        0.000000   10100.000000      1.000000      3.000000      0.000000     12.000000      0.000000\n",
      "25%     1908.000000   20800.000000      3.000000      3.000000     17.000000     48.250000      9.000000\n",
      "50%     5772.000000   52200.000000      4.000000      4.000000     41.000000     72.000000     19.000000\n",
      "75%     8335.000000   90899.000000      5.000000      4.000000     65.000000    129.820000     29.000000\n",
      "max    10806.000000  123199.000000      5.000000      4.000000     88.000000    149.000000     39.000000\n",
      "---------------------------------------------------\n",
      "Length of the data:  13643\n"
     ]
    }
   ],
   "source": [
    "# Identify and remove the outliers of 'helpfulness' no more than 2\n",
    "df_helpfulness = df_cleaned.drop(df_cleaned[df_cleaned.helpfulness <= 2].index)\n",
    "print(df_helpfulness.describe())\n",
    "print ('---------------------------------------------------')\n",
    "print(\"Length of the data: \", len(df_helpfulness))\n",
    "\n",
    "\n"
   ]
  },
  {
   "cell_type": "markdown",
   "id": "45074d55",
   "metadata": {},
   "source": [
    "##### Q4.2 Users who rate less than 7 items"
   ]
  },
  {
   "cell_type": "code",
   "execution_count": 25,
   "id": "d6e30d30",
   "metadata": {},
   "outputs": [
    {
     "name": "stdout",
     "output_type": "stream",
     "text": [
      "             userId      timestamp       rating  helpfulness      item_id   item_price    user_city\n",
      "count   2741.000000    2741.000000  2741.000000  2741.000000  2741.000000  2741.000000  2741.000000\n",
      "mean    4680.134987   58635.168916     3.705217     3.906968    43.279825    82.882583    19.415542\n",
      "std     3519.936783   37016.449642     1.347587     0.290530    26.535160    41.913824    11.396787\n",
      "min        4.000000   10100.000000     1.000000     3.000000     0.000000    12.000000     0.000000\n",
      "25%     1310.000000   21900.000000     3.000000     4.000000    21.000000    49.000000     9.000000\n",
      "50%     4811.000000   52800.000000     4.000000     4.000000    42.000000    73.650000    19.000000\n",
      "75%     7651.000000   90900.000000     5.000000     4.000000    66.000000   129.820000    28.000000\n",
      "max    10779.000000  123199.000000     5.000000     4.000000    88.000000   149.000000    39.000000\n",
      "---------------------------------------------------\n",
      "Length of the data:  2741\n"
     ]
    }
   ],
   "source": [
    "# Identify users who rate less than 7 items and remove those users as outliers\n",
    "\n",
    "## Group the DataFrame by 'userId' and count the number of items rated by each user\n",
    "        #Size is used to count the number of times an user appear to rate                                                      \n",
    "userId_count = df_helpfulness.groupby('userId').size() \n",
    "\n",
    "#Identify users who rate more than 7 times\n",
    "user_not_outliers = userId_count[userId_count >= 7].index\n",
    "\n",
    "#Filter the DataFrame to keep only the users who rate more than 7 times\n",
    "df_userId_7times = df_helpfulness[df_helpfulness['userId'].isin(user_not_outliers)]\n",
    "\n",
    "#print (df_userID_7times.describe())\n",
    "print (df_userId_7times.describe())\n",
    "print ('---------------------------------------------------')\n",
    "print(\"Length of the data: \", len(df_userId_7times))\n"
   ]
  },
  {
   "cell_type": "markdown",
   "id": "4710142d",
   "metadata": {},
   "source": [
    "##### Q4.3 Items that receives less than 11 ratings\n"
   ]
  },
  {
   "cell_type": "code",
   "execution_count": 26,
   "id": "1f2f016e",
   "metadata": {},
   "outputs": [
    {
     "name": "stdout",
     "output_type": "stream",
     "text": [
      "             userId      timestamp       rating  helpfulness      item_id   item_price    user_city\n",
      "count   2685.000000    2685.000000  2685.000000  2685.000000  2685.000000  2685.000000  2685.000000\n",
      "mean    4673.237616   58812.687151     3.705028     3.908007    43.478585    83.091650    19.456983\n",
      "std     3517.893437   37013.726118     1.346240     0.289069    26.630426    42.227558    11.397281\n",
      "min        4.000000   10100.000000     1.000000     3.000000     0.000000    12.000000     0.000000\n",
      "25%     1310.000000   22000.000000     3.000000     4.000000    21.000000    49.000000     9.000000\n",
      "50%     4666.000000   52800.000000     4.000000     4.000000    42.000000    73.650000    19.000000\n",
      "75%     7651.000000   91000.000000     5.000000     4.000000    67.000000   129.820000    28.000000\n",
      "max    10779.000000  123199.000000     5.000000     4.000000    88.000000   149.000000    39.000000\n",
      "---------------------------------------------------\n",
      "Length of the data:  2685\n"
     ]
    }
   ],
   "source": [
    "# Group by items and count by rating and filter which ones having ratings >=11\n",
    "\n",
    "# Group by items and count the number of ratings for each item\n",
    "item_rating_count = df_userId_7times.groupby('item')['rating'].count()\n",
    "\n",
    "# Get the items that received 11 or more ratings\n",
    "item_outliers = item_rating_count[item_rating_count >= 11].index\n",
    "\n",
    "# Filter the DataFrame to keep only these items\n",
    "df_item_11ratings = df_userId_7times[df_userId_7times['item'].isin(item_outliers)]\n",
    "\n",
    "print(df_item_11ratings.describe())\n",
    "print ('---------------------------------------------------')\n",
    "print(\"Length of the data: \", len(df_item_11ratings))\n",
    "\n"
   ]
  }
 ],
 "metadata": {
  "colab": {
   "provenance": []
  },
  "kernelspec": {
   "display_name": "Python 3 (ipykernel)",
   "language": "python",
   "name": "python3"
  },
  "language_info": {
   "codemirror_mode": {
    "name": "ipython",
    "version": 3
   },
   "file_extension": ".py",
   "mimetype": "text/x-python",
   "name": "python",
   "nbconvert_exporter": "python",
   "pygments_lexer": "ipython3",
   "version": "3.11.5"
  }
 },
 "nbformat": 4,
 "nbformat_minor": 5
}

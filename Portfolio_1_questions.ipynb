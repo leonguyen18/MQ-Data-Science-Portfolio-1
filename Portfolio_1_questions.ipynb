{
  "cells": [
    {
      "cell_type": "markdown",
      "id": "skHfgkqlqndO",
      "metadata": {
        "id": "skHfgkqlqndO"
      },
      "source": [
        "### Analysis of an E-commerce Dataset\n",
        "\n",
        "We have been provided with a combined e-commerce dataset. In this dataset, each user has the ability to post a rating and review for the products they purchased. Additionally, other users can evaluate the initial rating and review by expressing their trust or distrust.\n",
        "\n",
        "This dataset includes a wealth of information for each user. Details such as their profile, ID, gender, city of birth, product ratings (on a scale of 1-5), reviews, and the prices of the products they purchased are all included. Moreover, for each product rating, we have information about the product name, ID, price, and category, the rating score, the timestamp of the rating and review, and the average helpfulness of the rating given by others (on a scale of 1-5).\n",
        "\n",
        "The dataset is from several data sources, and we have merged all the data into a single CSV file named 'A Combined E-commerce Dataset.csv'. The structure of this dataset is represented in the header shown below.\n",
        "\n",
        "| userId | gender | rating | review| item | category | helpfulness | timestamp | item_id | item_price | user_city|\n",
        "\n",
        "    | ---- | ---- | ---- | ---- | ---- | ---- | ---- | ---- | ---- |  ---- |  ---- |  \n",
        "    \n",
        "#### Description of Fields\n",
        "\n",
        "* __userId__ - the user's id\n",
        "* __gender__ - the user's gender\n",
        "* __rating__ - the user's rating towards the item\n",
        "* __review__ - the user's review towards the item\n",
        "* __item__ - the item's name\n",
        "* __category__ - the category of the item\n",
        "* __helpfulness__ - the average helpfulness of this rating\n",
        "* __timestamp__ - the timestamp when the rating is created\n",
        "* __item_id__ - the item's id\n",
        "* __item_price__ - the item's price\n",
        "* __user_city__ - the city of user's birth\n",
        "\n",
        "Note that, a user may rate multiple items and an item may receive ratings and reviews from multiple users. The \"helpfulness\" is an average value based on all the helpfulness values given by others.\n",
        "\n",
        "There are four questions to explore with the data as shown below.\n",
        "\n",
        "\n",
        "\n",
        "<img src=\"data-relation.png\" align=\"left\" width=\"400\"/>\n",
        "(You can find the data relation diagram on iLearn - Portfolio Part 1 resources - Fig1)\n"
      ]
    },
    {
      "cell_type": "markdown",
      "id": "-tb7B7VTqndQ",
      "metadata": {
        "id": "-tb7B7VTqndQ"
      },
      "source": [
        " #### Q1. Remove missing data\n",
        "\n",
        "Please remove the following records in the csv file:\n",
        "\n",
        " * gender/rating/helpfulness is missing\n",
        " * review is 'none'\n",
        "\n",
        "__Display the DataFrame, counting number of Null values in each column, and print the length of the data__ before and after removing the missing data.  "
      ]
    },
    {
      "cell_type": "code",
      "execution_count": 2,
      "id": "1ecn6H9VqndQ",
      "metadata": {
        "id": "1ecn6H9VqndQ"
      },
      "outputs": [
        {
          "name": "stdout",
          "output_type": "stream",
          "text": [
            "The current DataFrame:  \n",
            "    userId  timestamp                           review                  item  \\\n",
            "0    4051      12807        Great job for what it is!                  eBay   \n",
            "1    4052     122899      Free Access Worth your Time               NetZero   \n",
            "2      33      12700    AOL..I love you!!!!!!!!!!!!    AOL (America Online)   \n",
            "3      33      21000     EBAY!!!  I LOVE YOU!!!! :-)*                  eBay   \n",
            "4      33      22300  Blair Witch...Oh Come On.......   Blair Witch Project   \n",
            "\n",
            "   rating  helpfulness gender                  category  item_id  item_price  \\\n",
            "0     5.0          2.0      F  Online Stores & Services       88      149.00   \n",
            "1     5.0          0.0      F  Online Stores & Services       46       53.00   \n",
            "2     5.0          4.0      F  Online Stores & Services        0      145.84   \n",
            "3     5.0          4.0      F  Online Stores & Services       88      149.00   \n",
            "4     1.0          4.0      F                    Movies       12       44.00   \n",
            "\n",
            "   user_city  \n",
            "0         39  \n",
            "1         39  \n",
            "2         31  \n",
            "3         31  \n",
            "4         31  \n",
            "Number of Null values in each column:  \n",
            " userId          0\n",
            "timestamp       0\n",
            "review         18\n",
            "item            0\n",
            "rating         17\n",
            "helpfulness    22\n",
            "gender         27\n",
            "category        0\n",
            "item_id         0\n",
            "item_price      0\n",
            "user_city       0\n",
            "dtype: int64\n",
            "The length of the DataFrame before removing the missing data:  20000\n",
            "The length of the DataFrame after removing the missing data:  19916\n"
          ]
        }
      ],
      "source": [
        "# your code and solutions\n",
        "\n",
        "# Load the data file and display the DataFrame:\n",
        "import pandas as pd\n",
        "df = pd.read_csv('The E-commerce Dataset.csv')\n",
        "print ('The current DataFrame: ',\"\\n\", df.head(5))\n",
        "\n",
        "# As the missing values in column \"review\" are denoted as 'none', we will replace them with Null values directly into the current DataFrame:\n",
        "df['review'].replace('none', pd.NA, inplace=True)\n",
        "\n",
        "# Count number of Null values in each column:\n",
        "print ('Number of Null values in each column: ', \"\\n\", df.isna().sum())\n",
        "\n",
        "# The length of the DataFrame before removing the missing data aka Null values:\n",
        "print ('The length of the DataFrame before removing the missing data: ', len(df))\n",
        "\n",
        "# Remove records with missing data in [render/rating/helpfulness and review] columns, then save the cleaned DataFrame into a new DataFrame:\n",
        "df_cleaned = df.dropna(subset = ['gender', 'rating', 'helpfulness', 'review'])\n",
        "# The length of the DataFrame after removing the missing data aka Null values:\n",
        "print ('The length of the DataFrame after removing the missing data: ', len(df_cleaned))\n"
      ]
    },
    {
      "cell_type": "markdown",
      "id": "EJG9_LEmqndR",
      "metadata": {
        "id": "EJG9_LEmqndR"
      },
      "source": [
        "#### Q2. Descriptive statistics\n",
        "\n",
        "With the cleaned data in Q1, please provide the data summarization as below:\n",
        "\n",
        "* Q2.1 total number of unique users, unique reviews, unique items, and unique categories\n",
        "* Q2.2 descriptive statistics, e.g., the total number, mean, std, min and max regarding all rating records\n",
        "* Q2.3 descriptive statistics, e.g., mean, std, max, and min of the number of items rated by different genders\n",
        "* Q2.4 descriptive statistics, e.g., mean, std, max, min of the number of ratings that received by each items\n"
      ]
    },
    {
      "cell_type": "code",
      "execution_count": 3,
      "id": "-fiucmwsqndR",
      "metadata": {
        "id": "-fiucmwsqndR"
      },
      "outputs": [
        {
          "name": "stdout",
          "output_type": "stream",
          "text": [
            "Unique users: 8562\n",
            "Unique reviews: 19459\n",
            "Unique items: 89\n",
            "Unique categories: 9\n"
          ]
        },
        {
          "data": {
            "text/plain": [
              "userId          8562\n",
              "timestamp       2283\n",
              "review         19459\n",
              "item              89\n",
              "rating             5\n",
              "helpfulness        5\n",
              "gender             2\n",
              "category           9\n",
              "item_id           89\n",
              "item_price        83\n",
              "user_city         40\n",
              "dtype: int64"
            ]
          },
          "execution_count": 3,
          "metadata": {},
          "output_type": "execute_result"
        }
      ],
      "source": [
        "# your code and solutions\n",
        "# Q2.1: Total number of unique users, unique reviews, unique items, and unique categories in the given data:\n",
        "## Version 1: Using the nunique() method to count the number of unique values in each column  \n",
        "                                                                # by specifying the column name as an argument to the nunique() method:\n",
        "unique_users = df_cleaned['userId'].nunique()\n",
        "print (f'Unique users: {unique_users}')\n",
        "\n",
        "unique_reviews = df_cleaned['review'].nunique()\n",
        "print(f'Unique reviews: {unique_reviews}')\n",
        "\n",
        "unique_items = df_cleaned['item'].nunique()\n",
        "print(f'Unique items: {unique_items}')\n",
        "\n",
        "unique_categories = df_cleaned['category'].nunique()\n",
        "print(f'Unique categories: {unique_categories}')\n",
        "\n",
        "## Version 2: Using the nunique() method to count the number of unique values in each column in the entire DataFrame:\n",
        "df_cleaned.nunique()\n"
      ]
    },
    {
      "cell_type": "code",
      "execution_count": 35,
      "id": "02fd8208",
      "metadata": {},
      "outputs": [
        {
          "name": "stdout",
          "output_type": "stream",
          "text": [
            "count    19916.000\n",
            "mean         3.702\n",
            "std          1.404\n",
            "min          1.000\n",
            "25%          3.000\n",
            "50%          4.000\n",
            "75%          5.000\n",
            "max          5.000\n",
            "Name: rating, dtype: float64\n"
          ]
        }
      ],
      "source": [
        "# Q2.2: Descriptive statistics: the total number, mean, std, min and max regarding all rating records, etc\n",
        "total_rating = round(df_cleaned['rating'].describe(),3) # Using the describe() method to get the descriptive statistics of the 'rating' column and \n",
        "                                                        # rounding the results to 3 decimal places.\n",
        "print(total_rating)"
      ]
    },
    {
      "cell_type": "code",
      "execution_count": 48,
      "id": "c76b8b4b",
      "metadata": {},
      "outputs": [
        {
          "name": "stdout",
          "output_type": "stream",
          "text": [
            "Number of items rated by different genders: \n",
            "Gender  Count\n",
            "     F   9793\n",
            "     M  10123\n",
            "------------------------------------\n",
            "Descriptive statistics of the number of items rated by different genders: \n",
            "Mean:  9958.0\n",
            "Standard deviation:  233.345\n",
            "Maximum:  10123\n",
            "Minimum:  9793\n"
          ]
        }
      ],
      "source": [
        "# Q2.3: Descriptive statistics: mean, std, max, and min of the number of items rated by different genders\n",
        "## Group by gender and count the number of items rated by each gender\n",
        "\n",
        "print ('Number of items rated by different genders: ')\n",
        "gender_item_counts = df_cleaned.groupby('gender')['item'].count()                   # Group by gender and count the number of items\n",
        "df_gender_item_counts = gender_item_counts.reset_index ()                           # Convert the resulting Series to a DataFrame using the reset_index() method\n",
        "df_gender_item_counts.columns = ['Gender', 'Count']                                 # Rename the columns of the resulting DataFrame\n",
        "print (df_gender_item_counts.to_string(index=False))\n",
        "\n",
        "print ('------------------------------------')\n",
        "\n",
        "## Descriptive statistics of the number of items rated by different genders\n",
        "print ('Descriptive statistics of the number of items rated by different genders: ')\n",
        "mean_items = gender_item_counts.mean()\n",
        "std_items = gender_item_counts.std()\n",
        "max_items = gender_item_counts.max()\n",
        "min_items = gender_item_counts.min()\n",
        "\n",
        "print ('Mean: ', round(mean_items, 3))\n",
        "print ('Standard deviation: ', round(std_items, 3))\n",
        "print ('Maximum: ', round(max_items, 3))\n",
        "print ('Minimum: ', round(min_items, 3))\n"
      ]
    },
    {
      "cell_type": "code",
      "execution_count": 52,
      "id": "ea2dceca",
      "metadata": {},
      "outputs": [
        {
          "name": "stdout",
          "output_type": "stream",
          "text": [
            "Number of ratings received by each item: \n",
            "                                                 Item  Count\n",
            "                                 AOL (America Online)    939\n",
            "                                        All Advantage    657\n",
            "                                Alta Vista (by 1stUp)    157\n",
            "                                           Amazon.com    240\n",
            "                                    American Airlines    185\n",
            "                                      American Beauty    280\n",
            "                                         American Pie    315\n",
            "                                     Any Given Sunday    166\n",
            "                                           Applebee's    141\n",
            "                Austin Powers: The Spy Who Shagged Me    239\n",
            "                                      Bank of America    203\n",
            "                                 Being John Malkovich    162\n",
            "                                  Blair Witch Project    339\n",
            "                            Blue Mountain Arts eCards    284\n",
            "                                         Blue's Clues    186\n",
            "                                        BlueLight.com    156\n",
            "                                          Burger King    194\n",
            "                                            Cast Away    170\n",
            "                       Crouching Tiger, Hidden Dragon    148\n",
            "                                        Deep Blue Sea    150\n",
            "                                      Delta Air Lines    199\n",
            "             Diablo 2 - Bestseller Series for Windows    167\n",
            "                                                Dogma    170\n",
            "                                            Earthlink    169\n",
            "                                      Erin Brockovich    187\n",
            "                                                  FOX    139\n",
            "                                           Fight Club    195\n",
            "                 Final Fantasy VIII for PlayStation 1    292\n",
            "                                         FreeRide.com    242\n",
            "                                         Galaxy Quest    192\n",
            "                                            Gladiator    294\n",
            "                       Golden Eye 007 for Nintendo 64    174\n",
            "                                               Google    147\n",
            "                                           Green Mile    322\n",
            "                       How the Grinch Stole Christmas    143\n",
            "                           Huggies Ultra Trim Diapers    166\n",
            "J. K. Rowling - Harry Potter and the Sorcerer's Stone    206\n",
            "                                            Las Vegas    189\n",
            "                        Luvs Ultra Leakguards Stretch    156\n",
            "                                                  MTV    341\n",
            "                                               Matrix    346\n",
            "                                           McDonald's    415\n",
            "                               Mission: Impossible II    253\n",
            "                                         MyPoints.com    279\n",
            "                                                  NBC    155\n",
            "                                              NetFlix    161\n",
            "                                              NetZero    350\n",
            "                                        New York City    176\n",
            "                                   Northwest Airlines    141\n",
            "                                         Olive Garden    213\n",
            "                                   Outback Steakhouse    210\n",
            "                                              Patriot    173\n",
            "                                               PayPal    251\n",
            "                                         Pearl Harbor    148\n",
            "                                        Perfect Storm    187\n",
            "                          Playtex Diaper Genie System    148\n",
            "                        Priceline Flight Reservations    146\n",
            "                                        Quicken Loans    270\n",
            "                      Road Runner (includes MediaOne)    195\n",
            "                    Roller Coaster Tycoon For Windows    152\n",
            "                                          Scary Movie    211\n",
            "                                             Scream 3    166\n",
            "                          Sega Dreamcast Grey Console    155\n",
            "                                                Shrek    161\n",
            "                                        Simpsons, The    207\n",
            "                                          Sixth Sense    339\n",
            "                                        Sleepy Hollow    192\n",
            "                  Sony PlayStation 2 Slimline Console    176\n",
            "                   South Park: Bigger, Longer & Uncut    160\n",
            "                                   Southwest Airlines    303\n",
            "                                               Spedia    180\n",
            "              Star Wars Episode I: The Phantom Menace    166\n",
            "                                    StartSampling.Com    220\n",
            "                                               Subway    165\n",
            "                                            Taco Bell    154\n",
            "                                  Talented Mr. Ripley    197\n",
            "                                          Teletubbies    209\n",
            "  The Legend Of Zelda Ocarina Of Time for Nintendo 64    143\n",
            "                                   The Original Furby    175\n",
            "            The Sims 2: Open for Business for Windows    271\n",
            "                                          Toy Story 2    302\n",
            "                                         Treeloot.com    171\n",
            "                                          Unbreakable    170\n",
            "                                      United Airlines    169\n",
            "                                              Wendy's    210\n",
            "                                    What Lies Beneath    160\n",
            "                                                X-Men    245\n",
            "                                                X.com    173\n",
            "                                                 eBay    596\n",
            "------------------------------------\n",
            "Descriptive statistics of the number of ratings that received by each items: \n",
            "Mean:  223.775\n",
            "Standard deviation:  116.419\n",
            "Maximum:  939\n",
            "Minimum:  139\n"
          ]
        }
      ],
      "source": [
        "# Q2.4 Descriptive statistics, e.g., mean, std, max, min of the number of ratings that received by each items\n",
        "## Group by item and count the number of ratings received by each item\n",
        "print ('Number of ratings received by each item: ')\n",
        "item_rating_counts = df_cleaned.groupby('item')['rating'].count()\n",
        "df_item_rating_counts = item_rating_counts.reset_index()\n",
        "df_item_rating_counts.columns = ['Item', 'Count']\n",
        "print (df_item_rating_counts.to_string(index=False))\n",
        "\n",
        "print ('------------------------------------')\n",
        "\n",
        "## Descriptive statistics of the number of ratings that received by each items\n",
        "print ('Descriptive statistics of the number of ratings that received by each items: ')\n",
        "\n",
        "mean_ratings = item_rating_counts.mean()\n",
        "std_ratings = item_rating_counts.std()\n",
        "max_ratings = item_rating_counts.max()\n",
        "min_ratings = item_rating_counts.min()\n",
        "\n",
        "print ('Mean: ', round(mean_ratings, 3))\n",
        "print ('Standard deviation: ', round(std_ratings, 3))\n",
        "print ('Maximum: ', round(max_ratings, 3))\n",
        "print ('Minimum: ', round(min_ratings, 3))"
      ]
    },
    {
      "cell_type": "code",
      "execution_count": 53,
      "id": "6277c879",
      "metadata": {},
      "outputs": [
        {
          "name": "stdout",
          "output_type": "stream",
          "text": [
            "count     89.0\n",
            "mean     223.8\n",
            "std      116.4\n",
            "min      139.0\n",
            "25%      162.0\n",
            "50%      187.0\n",
            "75%      245.0\n",
            "max      939.0\n",
            "Name: rating, dtype: float64\n"
          ]
        }
      ],
      "source": [
        "desc_stats_ratings = round(item_rating_counts.describe(),1)\n",
        "print(desc_stats_ratings)"
      ]
    },
    {
      "cell_type": "markdown",
      "id": "PISggxe5qndR",
      "metadata": {
        "id": "PISggxe5qndR"
      },
      "source": [
        "#### Q3. Plotting and Analysis\n",
        "\n",
        "Please try to explore the correlation between gender/helpfulness/category and ratings; for instance, do female/male users tend to provide higher ratings than male/female users? Hint: you may use the boxplot function to plot figures for comparison (___Challenge___)\n",
        "    \n",
        "You may need to select the most suitable graphic forms for ease of presentation. Most importantly, for each figure or subfigure, please summarise ___what each plot shows___ (i.e. observations and explanations). Finally, you may need to provide an overall summary of the data."
      ]
    },
    {
      "cell_type": "code",
      "execution_count": 64,
      "id": "1bc6e6f9",
      "metadata": {},
      "outputs": [
        {
          "data": {
            "image/png": "[encoded data removed]",
            "text/plain": [
              "<Figure size 1500x1000 with 1 Axes>"
            ]
          },
          "metadata": {},
          "output_type": "display_data"
        },
        {
          "data": {
            "image/png": "[encoded data removed]",
            "text/plain": [
              "<Figure size 1000x800 with 1 Axes>"
            ]
          },
          "metadata": {},
          "output_type": "display_data"
        },
        {
          "data": {
            "image/png": "[encoded data removed]",
            "text/plain": [
              "<Figure size 1000x800 with 1 Axes>"
            ]
          },
          "metadata": {},
          "output_type": "display_data"
        }
      ],
      "source": [
        "import pandas as pd\n",
        "import matplotlib.pyplot as plt\n",
        "import seaborn as sns\n",
        "\n",
        "# Boxplot for gender vs ratings\n",
        "plt.figure(figsize=(15, 10)) #Width, height in inches.\n",
        "sns.boxplot(x='gender', y='rating', data=df_cleaned)\n",
        "plt.title('Boxplot of Ratings by Gender', fontsize = 12)\n",
        "plt.ylim (0,6)\n",
        "plt.show()\n",
        "\n",
        "\n",
        "# Boxplot for helpfulness vs ratings\n",
        "plt.figure(figsize=(10, 8))\n",
        "sns.boxplot(x='helpfulness', y='rating', data=df_cleaned, orient = 'v')\n",
        "plt.title('Boxplot of Ratings by Helpfulness')\n",
        "plt.show()\n",
        "\n",
        "# Boxplot for category vs ratings\n",
        "plt.figure(figsize=(10, 8))\n",
        "sns.boxplot(x='category', y='rating', data=df_cleaned, orient = 'v')\n",
        "plt.title('Boxplot of Ratings by Category')\n",
        "plt.show()"
      ]
    },
    {
      "cell_type": "code",
      "execution_count": 4,
      "id": "Zyuvw_WlqndR",
      "metadata": {
        "id": "Zyuvw_WlqndR"
      },
      "outputs": [],
      "source": [
        "# your code and solutions"
      ]
    },
    {
      "cell_type": "markdown",
      "id": "TxD3SLxRqndR",
      "metadata": {
        "id": "TxD3SLxRqndR"
      },
      "source": [
        "#### Q4. Detect and remove outliers\n",
        "\n",
        "We may define outlier users, reviews and items with three rules (if a record meets one of the rules, it is regarded as an outlier):\n",
        "\n",
        "1. reviews of which the helpfulness is no more than 2\n",
        "2. users who rate less than 7 items\n",
        "3. items that receives less than 11 ratings\n",
        "\n",
        "Please remove the corresponding records in the csv file that involves outlier users, reviews and items. You need to follow the order of rules to perform data cleaning operations. After that, __print the length of the data__."
      ]
    },
    {
      "cell_type": "code",
      "execution_count": 5,
      "id": "JaQJmew4qndR",
      "metadata": {
        "id": "JaQJmew4qndR"
      },
      "outputs": [],
      "source": [
        "# your code and solutions"
      ]
    }
  ],
  "metadata": {
    "colab": {
      "provenance": []
    },
    "kernelspec": {
      "display_name": "Python 3",
      "language": "python",
      "name": "python3"
    },
    "language_info": {
      "codemirror_mode": {
        "name": "ipython",
        "version": 3
      },
      "file_extension": ".py",
      "mimetype": "text/x-python",
      "name": "python",
      "nbconvert_exporter": "python",
      "pygments_lexer": "ipython3",
      "version": "3.11.5"
    }
  },
  "nbformat": 4,
  "nbformat_minor": 5
}
